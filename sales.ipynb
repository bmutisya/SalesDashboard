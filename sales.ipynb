{
 "cells": [
  {
   "cell_type": "code",
   "execution_count": 19,
   "id": "15d17614",
   "metadata": {},
   "outputs": [
    {
     "data": {
      "text/html": [
       "<div>\n",
       "<style scoped>\n",
       "    .dataframe tbody tr th:only-of-type {\n",
       "        vertical-align: middle;\n",
       "    }\n",
       "\n",
       "    .dataframe tbody tr th {\n",
       "        vertical-align: top;\n",
       "    }\n",
       "\n",
       "    .dataframe thead th {\n",
       "        text-align: right;\n",
       "    }\n",
       "</style>\n",
       "<table border=\"1\" class=\"dataframe\">\n",
       "  <thead>\n",
       "    <tr style=\"text-align: right;\">\n",
       "      <th></th>\n",
       "      <th>Product Code</th>\n",
       "      <th>Product Name</th>\n",
       "      <th>Product Category</th>\n",
       "      <th>Product Sub Category</th>\n",
       "      <th>Sku</th>\n",
       "      <th>Quantity per Sku</th>\n",
       "      <th>Unit Measure</th>\n",
       "      <th>Supplier</th>\n",
       "      <th>Client</th>\n",
       "      <th>Client Code</th>\n",
       "      <th>...</th>\n",
       "      <th>Sales Unit</th>\n",
       "      <th>Quantity</th>\n",
       "      <th>Price</th>\n",
       "      <th>value</th>\n",
       "      <th>Volume in Tonnes</th>\n",
       "      <th>Client Ref</th>\n",
       "      <th>Client Category</th>\n",
       "      <th>Client Industry</th>\n",
       "      <th>Client Size</th>\n",
       "      <th>Date Sold</th>\n",
       "    </tr>\n",
       "  </thead>\n",
       "  <tbody>\n",
       "    <tr>\n",
       "      <th>0</th>\n",
       "      <td>1101</td>\n",
       "      <td>Avena Oil 500ml</td>\n",
       "      <td>Oil</td>\n",
       "      <td>Cp Oil</td>\n",
       "      <td>500ml</td>\n",
       "      <td>500</td>\n",
       "      <td>ml</td>\n",
       "      <td>NaN</td>\n",
       "      <td>Ebenezer Shop Makutano</td>\n",
       "      <td>NaN</td>\n",
       "      <td>...</td>\n",
       "      <td>Vsr-Mt Kenya</td>\n",
       "      <td>12.0</td>\n",
       "      <td>230</td>\n",
       "      <td>2760</td>\n",
       "      <td>0.006</td>\n",
       "      <td>NaN</td>\n",
       "      <td>Shop</td>\n",
       "      <td>Retail</td>\n",
       "      <td>Sme</td>\n",
       "      <td>2023-04-29 14:29:46</td>\n",
       "    </tr>\n",
       "    <tr>\n",
       "      <th>1</th>\n",
       "      <td>1101</td>\n",
       "      <td>Avena Oil 500ml</td>\n",
       "      <td>Oil</td>\n",
       "      <td>Cp Oil</td>\n",
       "      <td>500ml</td>\n",
       "      <td>500</td>\n",
       "      <td>ml</td>\n",
       "      <td>NaN</td>\n",
       "      <td>sinende</td>\n",
       "      <td>NaN</td>\n",
       "      <td>...</td>\n",
       "      <td>Vsr-South Rift</td>\n",
       "      <td>12.0</td>\n",
       "      <td>230</td>\n",
       "      <td>2760</td>\n",
       "      <td>0.006</td>\n",
       "      <td>NaN</td>\n",
       "      <td>Minimart</td>\n",
       "      <td>Retail</td>\n",
       "      <td>SME</td>\n",
       "      <td>2023-04-28 11:10:52</td>\n",
       "    </tr>\n",
       "    <tr>\n",
       "      <th>2</th>\n",
       "      <td>1101</td>\n",
       "      <td>Avena Oil 500ml</td>\n",
       "      <td>Oil</td>\n",
       "      <td>Cp Oil</td>\n",
       "      <td>500ml</td>\n",
       "      <td>500</td>\n",
       "      <td>ml</td>\n",
       "      <td>NaN</td>\n",
       "      <td>wapati</td>\n",
       "      <td>NaN</td>\n",
       "      <td>...</td>\n",
       "      <td>Vsr-South Rift</td>\n",
       "      <td>12.0</td>\n",
       "      <td>230</td>\n",
       "      <td>2760</td>\n",
       "      <td>0.006</td>\n",
       "      <td>self</td>\n",
       "      <td>Shop</td>\n",
       "      <td>Retail</td>\n",
       "      <td>SME</td>\n",
       "      <td>2023-04-28 10:28:12</td>\n",
       "    </tr>\n",
       "    <tr>\n",
       "      <th>3</th>\n",
       "      <td>1101</td>\n",
       "      <td>Avena Oil 500ml</td>\n",
       "      <td>Oil</td>\n",
       "      <td>Cp Oil</td>\n",
       "      <td>500ml</td>\n",
       "      <td>500</td>\n",
       "      <td>ml</td>\n",
       "      <td>NaN</td>\n",
       "      <td>fauna mini</td>\n",
       "      <td>NaN</td>\n",
       "      <td>...</td>\n",
       "      <td>Vsr-South Rift</td>\n",
       "      <td>12.0</td>\n",
       "      <td>230</td>\n",
       "      <td>2760</td>\n",
       "      <td>0.006</td>\n",
       "      <td>self</td>\n",
       "      <td>Minimart</td>\n",
       "      <td>Retail</td>\n",
       "      <td>SME</td>\n",
       "      <td>2023-04-27 12:23:26</td>\n",
       "    </tr>\n",
       "    <tr>\n",
       "      <th>4</th>\n",
       "      <td>1101</td>\n",
       "      <td>Avena Oil 500ml</td>\n",
       "      <td>Oil</td>\n",
       "      <td>Cp Oil</td>\n",
       "      <td>500ml</td>\n",
       "      <td>500</td>\n",
       "      <td>ml</td>\n",
       "      <td>NaN</td>\n",
       "      <td>mega supamarket downtown</td>\n",
       "      <td>NaN</td>\n",
       "      <td>...</td>\n",
       "      <td>Vsr-Mt Kenya</td>\n",
       "      <td>24.0</td>\n",
       "      <td>230</td>\n",
       "      <td>5520</td>\n",
       "      <td>0.012</td>\n",
       "      <td>NaN</td>\n",
       "      <td>Shop</td>\n",
       "      <td>Retail</td>\n",
       "      <td>SME</td>\n",
       "      <td>2023-04-27 09:25:24</td>\n",
       "    </tr>\n",
       "    <tr>\n",
       "      <th>...</th>\n",
       "      <td>...</td>\n",
       "      <td>...</td>\n",
       "      <td>...</td>\n",
       "      <td>...</td>\n",
       "      <td>...</td>\n",
       "      <td>...</td>\n",
       "      <td>...</td>\n",
       "      <td>...</td>\n",
       "      <td>...</td>\n",
       "      <td>...</td>\n",
       "      <td>...</td>\n",
       "      <td>...</td>\n",
       "      <td>...</td>\n",
       "      <td>...</td>\n",
       "      <td>...</td>\n",
       "      <td>...</td>\n",
       "      <td>...</td>\n",
       "      <td>...</td>\n",
       "      <td>...</td>\n",
       "      <td>...</td>\n",
       "      <td>...</td>\n",
       "    </tr>\n",
       "    <tr>\n",
       "      <th>17236</th>\n",
       "      <td>GA010</td>\n",
       "      <td>Super Saba+ Green 1kg</td>\n",
       "      <td>Bar Soap</td>\n",
       "      <td>Antibacterial Bar Soap</td>\n",
       "      <td>1kg</td>\n",
       "      <td>1</td>\n",
       "      <td>Kg</td>\n",
       "      <td>NaN</td>\n",
       "      <td>ridges bidii shop</td>\n",
       "      <td>NaN</td>\n",
       "      <td>...</td>\n",
       "      <td>Vsr-Mt Kenya</td>\n",
       "      <td>10.0</td>\n",
       "      <td>220</td>\n",
       "      <td>2200</td>\n",
       "      <td>0.010</td>\n",
       "      <td>NaN</td>\n",
       "      <td>Shop</td>\n",
       "      <td>Retail</td>\n",
       "      <td>SME</td>\n",
       "      <td>2023-05-02 15:16:08</td>\n",
       "    </tr>\n",
       "    <tr>\n",
       "      <th>17237</th>\n",
       "      <td>GA011</td>\n",
       "      <td>Super Saba+ Cream 1kg</td>\n",
       "      <td>Bar Soap</td>\n",
       "      <td>Antibacterial Bar Soap</td>\n",
       "      <td>1kg</td>\n",
       "      <td>1</td>\n",
       "      <td>Kg</td>\n",
       "      <td>NaN</td>\n",
       "      <td>The truth mini- maili 4</td>\n",
       "      <td>NaN</td>\n",
       "      <td>...</td>\n",
       "      <td>Vsr-Western</td>\n",
       "      <td>20.0</td>\n",
       "      <td>220</td>\n",
       "      <td>4400</td>\n",
       "      <td>0.020</td>\n",
       "      <td>Bhumi</td>\n",
       "      <td>Minimart</td>\n",
       "      <td>Retail</td>\n",
       "      <td>SME</td>\n",
       "      <td>2023-05-25 16:29:45</td>\n",
       "    </tr>\n",
       "    <tr>\n",
       "      <th>17238</th>\n",
       "      <td>GA011</td>\n",
       "      <td>Super Saba+ Cream 1kg</td>\n",
       "      <td>Bar Soap</td>\n",
       "      <td>Antibacterial Bar Soap</td>\n",
       "      <td>1kg</td>\n",
       "      <td>1</td>\n",
       "      <td>Kg</td>\n",
       "      <td>NaN</td>\n",
       "      <td>Zion Mart</td>\n",
       "      <td>NaN</td>\n",
       "      <td>...</td>\n",
       "      <td>Vsr-Eastern</td>\n",
       "      <td>1.0</td>\n",
       "      <td>1700</td>\n",
       "      <td>1700</td>\n",
       "      <td>0.001</td>\n",
       "      <td>NaN</td>\n",
       "      <td>Shop</td>\n",
       "      <td>Retail</td>\n",
       "      <td>Sme</td>\n",
       "      <td>2023-05-19 20:55:07</td>\n",
       "    </tr>\n",
       "    <tr>\n",
       "      <th>17239</th>\n",
       "      <td>GA011</td>\n",
       "      <td>Super Saba+ Cream 1kg</td>\n",
       "      <td>Bar Soap</td>\n",
       "      <td>Antibacterial Bar Soap</td>\n",
       "      <td>1kg</td>\n",
       "      <td>1</td>\n",
       "      <td>Kg</td>\n",
       "      <td>NaN</td>\n",
       "      <td>Catherene mueni</td>\n",
       "      <td>NaN</td>\n",
       "      <td>...</td>\n",
       "      <td>Vsr-Eastern</td>\n",
       "      <td>10.0</td>\n",
       "      <td>1700</td>\n",
       "      <td>17000</td>\n",
       "      <td>0.010</td>\n",
       "      <td>NaN</td>\n",
       "      <td>Shop</td>\n",
       "      <td>Retail</td>\n",
       "      <td>SME</td>\n",
       "      <td>2023-05-16 21:52:53</td>\n",
       "    </tr>\n",
       "    <tr>\n",
       "      <th>17240</th>\n",
       "      <td>GA011</td>\n",
       "      <td>Super Saba+ Cream 1kg</td>\n",
       "      <td>Bar Soap</td>\n",
       "      <td>Antibacterial Bar Soap</td>\n",
       "      <td>1kg</td>\n",
       "      <td>1</td>\n",
       "      <td>Kg</td>\n",
       "      <td>NaN</td>\n",
       "      <td>New point shop-mti moja</td>\n",
       "      <td>NaN</td>\n",
       "      <td>...</td>\n",
       "      <td>Vsr-Western</td>\n",
       "      <td>10.0</td>\n",
       "      <td>220</td>\n",
       "      <td>2200</td>\n",
       "      <td>0.010</td>\n",
       "      <td>Bhumi</td>\n",
       "      <td>Shop</td>\n",
       "      <td>Retail</td>\n",
       "      <td>SME</td>\n",
       "      <td>2023-05-16 16:21:22</td>\n",
       "    </tr>\n",
       "  </tbody>\n",
       "</table>\n",
       "<p>17241 rows × 23 columns</p>\n",
       "</div>"
      ],
      "text/plain": [
       "      Product Code           Product Name Product Category   \n",
       "0             1101        Avena Oil 500ml              Oil  \\\n",
       "1             1101        Avena Oil 500ml              Oil   \n",
       "2             1101        Avena Oil 500ml              Oil   \n",
       "3             1101        Avena Oil 500ml              Oil   \n",
       "4             1101        Avena Oil 500ml              Oil   \n",
       "...            ...                    ...              ...   \n",
       "17236        GA010  Super Saba+ Green 1kg         Bar Soap   \n",
       "17237        GA011  Super Saba+ Cream 1kg         Bar Soap   \n",
       "17238        GA011  Super Saba+ Cream 1kg         Bar Soap   \n",
       "17239        GA011  Super Saba+ Cream 1kg         Bar Soap   \n",
       "17240        GA011  Super Saba+ Cream 1kg         Bar Soap   \n",
       "\n",
       "         Product Sub Category    Sku  Quantity per Sku Unit Measure Supplier   \n",
       "0                      Cp Oil  500ml               500           ml      NaN  \\\n",
       "1                      Cp Oil  500ml               500           ml      NaN   \n",
       "2                      Cp Oil  500ml               500           ml      NaN   \n",
       "3                      Cp Oil  500ml               500           ml      NaN   \n",
       "4                      Cp Oil  500ml               500           ml      NaN   \n",
       "...                       ...    ...               ...          ...      ...   \n",
       "17236  Antibacterial Bar Soap    1kg                 1           Kg      NaN   \n",
       "17237  Antibacterial Bar Soap    1kg                 1           Kg      NaN   \n",
       "17238  Antibacterial Bar Soap    1kg                 1           Kg      NaN   \n",
       "17239  Antibacterial Bar Soap    1kg                 1           Kg      NaN   \n",
       "17240  Antibacterial Bar Soap    1kg                 1           Kg      NaN   \n",
       "\n",
       "                         Client Client Code  ...      Sales Unit Quantity   \n",
       "0        Ebenezer Shop Makutano         NaN  ...    Vsr-Mt Kenya     12.0  \\\n",
       "1                       sinende         NaN  ...  Vsr-South Rift     12.0   \n",
       "2                        wapati         NaN  ...  Vsr-South Rift     12.0   \n",
       "3                    fauna mini         NaN  ...  Vsr-South Rift     12.0   \n",
       "4      mega supamarket downtown         NaN  ...    Vsr-Mt Kenya     24.0   \n",
       "...                         ...         ...  ...             ...      ...   \n",
       "17236         ridges bidii shop         NaN  ...    Vsr-Mt Kenya     10.0   \n",
       "17237   The truth mini- maili 4         NaN  ...     Vsr-Western     20.0   \n",
       "17238                 Zion Mart         NaN  ...     Vsr-Eastern      1.0   \n",
       "17239           Catherene mueni         NaN  ...     Vsr-Eastern     10.0   \n",
       "17240   New point shop-mti moja         NaN  ...     Vsr-Western     10.0   \n",
       "\n",
       "       Price  value  Volume in Tonnes  Client Ref  Client Category   \n",
       "0        230   2760             0.006         NaN             Shop  \\\n",
       "1        230   2760             0.006         NaN         Minimart   \n",
       "2        230   2760             0.006        self             Shop   \n",
       "3        230   2760             0.006        self         Minimart   \n",
       "4        230   5520             0.012         NaN             Shop   \n",
       "...      ...    ...               ...         ...              ...   \n",
       "17236    220   2200             0.010         NaN             Shop   \n",
       "17237    220   4400             0.020       Bhumi         Minimart   \n",
       "17238   1700   1700             0.001         NaN             Shop   \n",
       "17239   1700  17000             0.010         NaN             Shop   \n",
       "17240    220   2200             0.010       Bhumi             Shop   \n",
       "\n",
       "       Client Industry Client Size            Date Sold  \n",
       "0               Retail         Sme  2023-04-29 14:29:46  \n",
       "1               Retail         SME  2023-04-28 11:10:52  \n",
       "2               Retail         SME  2023-04-28 10:28:12  \n",
       "3               Retail         SME  2023-04-27 12:23:26  \n",
       "4               Retail         SME  2023-04-27 09:25:24  \n",
       "...                ...         ...                  ...  \n",
       "17236           Retail         SME  2023-05-02 15:16:08  \n",
       "17237           Retail         SME  2023-05-25 16:29:45  \n",
       "17238           Retail         Sme  2023-05-19 20:55:07  \n",
       "17239           Retail         SME  2023-05-16 21:52:53  \n",
       "17240           Retail         SME  2023-05-16 16:21:22  \n",
       "\n",
       "[17241 rows x 23 columns]"
      ]
     },
     "execution_count": 19,
     "metadata": {},
     "output_type": "execute_result"
    }
   ],
   "source": [
    "import pandas as pd\n",
    "import calendar\n",
    "import plotly.express as plt\n",
    "df = pd.read_excel('sales_data.xlsx')\n",
    "df"
   ]
  },
  {
   "cell_type": "code",
   "execution_count": 2,
   "id": "44f63d76",
   "metadata": {},
   "outputs": [
    {
     "data": {
      "text/plain": [
       "Index(['Product Code', 'Product Name', 'Product Category',\n",
       "       'Product Sub Category', 'Sku', 'Quantity per Sku', 'Unit Measure',\n",
       "       'Supplier', 'Client', 'Client Code', 'City', 'Sales Rep',\n",
       "       'Sales Rep Phone Number', 'Sales Unit', 'Quantity', 'Price', 'value',\n",
       "       'Volume in Tonnes', 'Client Ref', 'Client Category', 'Client Industry',\n",
       "       'Client Size', 'Date Sold'],\n",
       "      dtype='object')"
      ]
     },
     "execution_count": 2,
     "metadata": {},
     "output_type": "execute_result"
    }
   ],
   "source": [
    "df.columns"
   ]
  },
  {
   "cell_type": "code",
   "execution_count": 3,
   "id": "5955cca2",
   "metadata": {},
   "outputs": [
    {
     "data": {
      "text/plain": [
       "0                        Cp Oil\n",
       "1                        Cp Oil\n",
       "2                        Cp Oil\n",
       "3                        Cp Oil\n",
       "4                        Cp Oil\n",
       "                  ...          \n",
       "17236    Antibacterial Bar Soap\n",
       "17237    Antibacterial Bar Soap\n",
       "17238    Antibacterial Bar Soap\n",
       "17239    Antibacterial Bar Soap\n",
       "17240    Antibacterial Bar Soap\n",
       "Name: Product Sub Category, Length: 17241, dtype: object"
      ]
     },
     "execution_count": 3,
     "metadata": {},
     "output_type": "execute_result"
    }
   ],
   "source": [
    "df[\"Product Sub Category\"]"
   ]
  },
  {
   "cell_type": "code",
   "execution_count": 4,
   "id": "506a5484",
   "metadata": {},
   "outputs": [
    {
     "data": {
      "text/plain": [
       "array(['Cp Oil', 'White CP Fat', 'Yellow CP Fat', 'Bar Soap',\n",
       "       'Washing Powder', 'Bulk Oil', 'Yellow bulk Fat', 'White bulk Fat',\n",
       "       'Antibacterial Bar Soap'], dtype=object)"
      ]
     },
     "execution_count": 4,
     "metadata": {},
     "output_type": "execute_result"
    }
   ],
   "source": [
    "df[\"Product Sub Category\"].unique()"
   ]
  },
  {
   "cell_type": "code",
   "execution_count": 23,
   "id": "56a751ef",
   "metadata": {},
   "outputs": [
    {
     "data": {
      "text/html": [
       "<div>\n",
       "<style scoped>\n",
       "    .dataframe tbody tr th:only-of-type {\n",
       "        vertical-align: middle;\n",
       "    }\n",
       "\n",
       "    .dataframe tbody tr th {\n",
       "        vertical-align: top;\n",
       "    }\n",
       "\n",
       "    .dataframe thead th {\n",
       "        text-align: right;\n",
       "    }\n",
       "</style>\n",
       "<table border=\"1\" class=\"dataframe\">\n",
       "  <thead>\n",
       "    <tr style=\"text-align: right;\">\n",
       "      <th></th>\n",
       "      <th>Product Code</th>\n",
       "      <th>Product Name</th>\n",
       "      <th>Product Category</th>\n",
       "      <th>Product Sub Category</th>\n",
       "      <th>Sku</th>\n",
       "      <th>Quantity per Sku</th>\n",
       "      <th>Unit Measure</th>\n",
       "      <th>Supplier</th>\n",
       "      <th>Client</th>\n",
       "      <th>Client Code</th>\n",
       "      <th>...</th>\n",
       "      <th>Quantity</th>\n",
       "      <th>Price</th>\n",
       "      <th>value</th>\n",
       "      <th>Volume in Tonnes</th>\n",
       "      <th>Client Ref</th>\n",
       "      <th>Client Category</th>\n",
       "      <th>Client Industry</th>\n",
       "      <th>Client Size</th>\n",
       "      <th>Date Sold</th>\n",
       "      <th>month</th>\n",
       "    </tr>\n",
       "  </thead>\n",
       "  <tbody>\n",
       "    <tr>\n",
       "      <th>0</th>\n",
       "      <td>1101</td>\n",
       "      <td>Avena Oil 500ml</td>\n",
       "      <td>Oil</td>\n",
       "      <td>Cp Oil</td>\n",
       "      <td>500ml</td>\n",
       "      <td>500</td>\n",
       "      <td>ml</td>\n",
       "      <td>NaN</td>\n",
       "      <td>Ebenezer Shop Makutano</td>\n",
       "      <td>NaN</td>\n",
       "      <td>...</td>\n",
       "      <td>12.0</td>\n",
       "      <td>230</td>\n",
       "      <td>2760</td>\n",
       "      <td>0.006</td>\n",
       "      <td>NaN</td>\n",
       "      <td>Shop</td>\n",
       "      <td>Retail</td>\n",
       "      <td>Sme</td>\n",
       "      <td>2023-04-29 14:29:46</td>\n",
       "      <td>Apr</td>\n",
       "    </tr>\n",
       "    <tr>\n",
       "      <th>1</th>\n",
       "      <td>1101</td>\n",
       "      <td>Avena Oil 500ml</td>\n",
       "      <td>Oil</td>\n",
       "      <td>Cp Oil</td>\n",
       "      <td>500ml</td>\n",
       "      <td>500</td>\n",
       "      <td>ml</td>\n",
       "      <td>NaN</td>\n",
       "      <td>sinende</td>\n",
       "      <td>NaN</td>\n",
       "      <td>...</td>\n",
       "      <td>12.0</td>\n",
       "      <td>230</td>\n",
       "      <td>2760</td>\n",
       "      <td>0.006</td>\n",
       "      <td>NaN</td>\n",
       "      <td>Minimart</td>\n",
       "      <td>Retail</td>\n",
       "      <td>SME</td>\n",
       "      <td>2023-04-28 11:10:52</td>\n",
       "      <td>Apr</td>\n",
       "    </tr>\n",
       "    <tr>\n",
       "      <th>2</th>\n",
       "      <td>1101</td>\n",
       "      <td>Avena Oil 500ml</td>\n",
       "      <td>Oil</td>\n",
       "      <td>Cp Oil</td>\n",
       "      <td>500ml</td>\n",
       "      <td>500</td>\n",
       "      <td>ml</td>\n",
       "      <td>NaN</td>\n",
       "      <td>wapati</td>\n",
       "      <td>NaN</td>\n",
       "      <td>...</td>\n",
       "      <td>12.0</td>\n",
       "      <td>230</td>\n",
       "      <td>2760</td>\n",
       "      <td>0.006</td>\n",
       "      <td>self</td>\n",
       "      <td>Shop</td>\n",
       "      <td>Retail</td>\n",
       "      <td>SME</td>\n",
       "      <td>2023-04-28 10:28:12</td>\n",
       "      <td>Apr</td>\n",
       "    </tr>\n",
       "    <tr>\n",
       "      <th>3</th>\n",
       "      <td>1101</td>\n",
       "      <td>Avena Oil 500ml</td>\n",
       "      <td>Oil</td>\n",
       "      <td>Cp Oil</td>\n",
       "      <td>500ml</td>\n",
       "      <td>500</td>\n",
       "      <td>ml</td>\n",
       "      <td>NaN</td>\n",
       "      <td>fauna mini</td>\n",
       "      <td>NaN</td>\n",
       "      <td>...</td>\n",
       "      <td>12.0</td>\n",
       "      <td>230</td>\n",
       "      <td>2760</td>\n",
       "      <td>0.006</td>\n",
       "      <td>self</td>\n",
       "      <td>Minimart</td>\n",
       "      <td>Retail</td>\n",
       "      <td>SME</td>\n",
       "      <td>2023-04-27 12:23:26</td>\n",
       "      <td>Apr</td>\n",
       "    </tr>\n",
       "    <tr>\n",
       "      <th>4</th>\n",
       "      <td>1101</td>\n",
       "      <td>Avena Oil 500ml</td>\n",
       "      <td>Oil</td>\n",
       "      <td>Cp Oil</td>\n",
       "      <td>500ml</td>\n",
       "      <td>500</td>\n",
       "      <td>ml</td>\n",
       "      <td>NaN</td>\n",
       "      <td>mega supamarket downtown</td>\n",
       "      <td>NaN</td>\n",
       "      <td>...</td>\n",
       "      <td>24.0</td>\n",
       "      <td>230</td>\n",
       "      <td>5520</td>\n",
       "      <td>0.012</td>\n",
       "      <td>NaN</td>\n",
       "      <td>Shop</td>\n",
       "      <td>Retail</td>\n",
       "      <td>SME</td>\n",
       "      <td>2023-04-27 09:25:24</td>\n",
       "      <td>Apr</td>\n",
       "    </tr>\n",
       "  </tbody>\n",
       "</table>\n",
       "<p>5 rows × 24 columns</p>\n",
       "</div>"
      ],
      "text/plain": [
       "  Product Code     Product Name Product Category Product Sub Category    Sku   \n",
       "0         1101  Avena Oil 500ml              Oil               Cp Oil  500ml  \\\n",
       "1         1101  Avena Oil 500ml              Oil               Cp Oil  500ml   \n",
       "2         1101  Avena Oil 500ml              Oil               Cp Oil  500ml   \n",
       "3         1101  Avena Oil 500ml              Oil               Cp Oil  500ml   \n",
       "4         1101  Avena Oil 500ml              Oil               Cp Oil  500ml   \n",
       "\n",
       "   Quantity per Sku Unit Measure Supplier                    Client   \n",
       "0               500           ml      NaN    Ebenezer Shop Makutano  \\\n",
       "1               500           ml      NaN                   sinende   \n",
       "2               500           ml      NaN                    wapati   \n",
       "3               500           ml      NaN                fauna mini   \n",
       "4               500           ml      NaN  mega supamarket downtown   \n",
       "\n",
       "  Client Code  ... Quantity Price  value Volume in Tonnes  Client Ref   \n",
       "0         NaN  ...     12.0   230   2760            0.006         NaN  \\\n",
       "1         NaN  ...     12.0   230   2760            0.006         NaN   \n",
       "2         NaN  ...     12.0   230   2760            0.006        self   \n",
       "3         NaN  ...     12.0   230   2760            0.006        self   \n",
       "4         NaN  ...     24.0   230   5520            0.012         NaN   \n",
       "\n",
       "   Client Category  Client Industry  Client Size            Date Sold month  \n",
       "0             Shop           Retail          Sme  2023-04-29 14:29:46   Apr  \n",
       "1         Minimart           Retail          SME  2023-04-28 11:10:52   Apr  \n",
       "2             Shop           Retail          SME  2023-04-28 10:28:12   Apr  \n",
       "3         Minimart           Retail          SME  2023-04-27 12:23:26   Apr  \n",
       "4             Shop           Retail          SME  2023-04-27 09:25:24   Apr  \n",
       "\n",
       "[5 rows x 24 columns]"
      ]
     },
     "execution_count": 23,
     "metadata": {},
     "output_type": "execute_result"
    }
   ],
   "source": [
    " date_col = pd.DatetimeIndex(df['Date Sold'])\n",
    "    #date_col\n",
    "    #df['year']=date_col.year\n",
    "df['month']=date_col.month\n",
    "    #df['Day']=date_col.day\n",
    "df['month'] = df['month'].apply(lambda x: calendar.month_abbr[x])\n",
    "df.head()"
   ]
  },
  {
   "cell_type": "code",
   "execution_count": 6,
   "id": "e3cfbefc",
   "metadata": {},
   "outputs": [],
   "source": [
    "df.columns = df.columns.str.replace(\" \",\"_\")"
   ]
  },
  {
   "cell_type": "code",
   "execution_count": 7,
   "id": "f867380e",
   "metadata": {},
   "outputs": [
    {
     "data": {
      "text/html": [
       "<div>\n",
       "<style scoped>\n",
       "    .dataframe tbody tr th:only-of-type {\n",
       "        vertical-align: middle;\n",
       "    }\n",
       "\n",
       "    .dataframe tbody tr th {\n",
       "        vertical-align: top;\n",
       "    }\n",
       "\n",
       "    .dataframe thead th {\n",
       "        text-align: right;\n",
       "    }\n",
       "</style>\n",
       "<table border=\"1\" class=\"dataframe\">\n",
       "  <thead>\n",
       "    <tr style=\"text-align: right;\">\n",
       "      <th></th>\n",
       "      <th>Product_Code</th>\n",
       "      <th>Product_Name</th>\n",
       "      <th>Product_Category</th>\n",
       "      <th>Product_Sub_Category</th>\n",
       "      <th>Sku</th>\n",
       "      <th>Quantity_per_Sku</th>\n",
       "      <th>Unit_Measure</th>\n",
       "      <th>Supplier</th>\n",
       "      <th>Client</th>\n",
       "      <th>Client_Code</th>\n",
       "      <th>...</th>\n",
       "      <th>Quantity</th>\n",
       "      <th>Price</th>\n",
       "      <th>value</th>\n",
       "      <th>Volume_in_Tonnes</th>\n",
       "      <th>Client_Ref</th>\n",
       "      <th>Client_Category</th>\n",
       "      <th>Client_Industry</th>\n",
       "      <th>Client_Size</th>\n",
       "      <th>Date_Sold</th>\n",
       "      <th>month</th>\n",
       "    </tr>\n",
       "  </thead>\n",
       "  <tbody>\n",
       "    <tr>\n",
       "      <th>0</th>\n",
       "      <td>1101</td>\n",
       "      <td>Avena Oil 500ml</td>\n",
       "      <td>Oil</td>\n",
       "      <td>Cp Oil</td>\n",
       "      <td>500ml</td>\n",
       "      <td>500</td>\n",
       "      <td>ml</td>\n",
       "      <td>NaN</td>\n",
       "      <td>Ebenezer Shop Makutano</td>\n",
       "      <td>NaN</td>\n",
       "      <td>...</td>\n",
       "      <td>12.0</td>\n",
       "      <td>230</td>\n",
       "      <td>2760</td>\n",
       "      <td>0.006</td>\n",
       "      <td>NaN</td>\n",
       "      <td>Shop</td>\n",
       "      <td>Retail</td>\n",
       "      <td>Sme</td>\n",
       "      <td>2023-04-29 14:29:46</td>\n",
       "      <td>Apr</td>\n",
       "    </tr>\n",
       "    <tr>\n",
       "      <th>1</th>\n",
       "      <td>1101</td>\n",
       "      <td>Avena Oil 500ml</td>\n",
       "      <td>Oil</td>\n",
       "      <td>Cp Oil</td>\n",
       "      <td>500ml</td>\n",
       "      <td>500</td>\n",
       "      <td>ml</td>\n",
       "      <td>NaN</td>\n",
       "      <td>sinende</td>\n",
       "      <td>NaN</td>\n",
       "      <td>...</td>\n",
       "      <td>12.0</td>\n",
       "      <td>230</td>\n",
       "      <td>2760</td>\n",
       "      <td>0.006</td>\n",
       "      <td>NaN</td>\n",
       "      <td>Minimart</td>\n",
       "      <td>Retail</td>\n",
       "      <td>SME</td>\n",
       "      <td>2023-04-28 11:10:52</td>\n",
       "      <td>Apr</td>\n",
       "    </tr>\n",
       "    <tr>\n",
       "      <th>2</th>\n",
       "      <td>1101</td>\n",
       "      <td>Avena Oil 500ml</td>\n",
       "      <td>Oil</td>\n",
       "      <td>Cp Oil</td>\n",
       "      <td>500ml</td>\n",
       "      <td>500</td>\n",
       "      <td>ml</td>\n",
       "      <td>NaN</td>\n",
       "      <td>wapati</td>\n",
       "      <td>NaN</td>\n",
       "      <td>...</td>\n",
       "      <td>12.0</td>\n",
       "      <td>230</td>\n",
       "      <td>2760</td>\n",
       "      <td>0.006</td>\n",
       "      <td>self</td>\n",
       "      <td>Shop</td>\n",
       "      <td>Retail</td>\n",
       "      <td>SME</td>\n",
       "      <td>2023-04-28 10:28:12</td>\n",
       "      <td>Apr</td>\n",
       "    </tr>\n",
       "    <tr>\n",
       "      <th>3</th>\n",
       "      <td>1101</td>\n",
       "      <td>Avena Oil 500ml</td>\n",
       "      <td>Oil</td>\n",
       "      <td>Cp Oil</td>\n",
       "      <td>500ml</td>\n",
       "      <td>500</td>\n",
       "      <td>ml</td>\n",
       "      <td>NaN</td>\n",
       "      <td>fauna mini</td>\n",
       "      <td>NaN</td>\n",
       "      <td>...</td>\n",
       "      <td>12.0</td>\n",
       "      <td>230</td>\n",
       "      <td>2760</td>\n",
       "      <td>0.006</td>\n",
       "      <td>self</td>\n",
       "      <td>Minimart</td>\n",
       "      <td>Retail</td>\n",
       "      <td>SME</td>\n",
       "      <td>2023-04-27 12:23:26</td>\n",
       "      <td>Apr</td>\n",
       "    </tr>\n",
       "    <tr>\n",
       "      <th>4</th>\n",
       "      <td>1101</td>\n",
       "      <td>Avena Oil 500ml</td>\n",
       "      <td>Oil</td>\n",
       "      <td>Cp Oil</td>\n",
       "      <td>500ml</td>\n",
       "      <td>500</td>\n",
       "      <td>ml</td>\n",
       "      <td>NaN</td>\n",
       "      <td>mega supamarket downtown</td>\n",
       "      <td>NaN</td>\n",
       "      <td>...</td>\n",
       "      <td>24.0</td>\n",
       "      <td>230</td>\n",
       "      <td>5520</td>\n",
       "      <td>0.012</td>\n",
       "      <td>NaN</td>\n",
       "      <td>Shop</td>\n",
       "      <td>Retail</td>\n",
       "      <td>SME</td>\n",
       "      <td>2023-04-27 09:25:24</td>\n",
       "      <td>Apr</td>\n",
       "    </tr>\n",
       "    <tr>\n",
       "      <th>...</th>\n",
       "      <td>...</td>\n",
       "      <td>...</td>\n",
       "      <td>...</td>\n",
       "      <td>...</td>\n",
       "      <td>...</td>\n",
       "      <td>...</td>\n",
       "      <td>...</td>\n",
       "      <td>...</td>\n",
       "      <td>...</td>\n",
       "      <td>...</td>\n",
       "      <td>...</td>\n",
       "      <td>...</td>\n",
       "      <td>...</td>\n",
       "      <td>...</td>\n",
       "      <td>...</td>\n",
       "      <td>...</td>\n",
       "      <td>...</td>\n",
       "      <td>...</td>\n",
       "      <td>...</td>\n",
       "      <td>...</td>\n",
       "      <td>...</td>\n",
       "    </tr>\n",
       "    <tr>\n",
       "      <th>17236</th>\n",
       "      <td>GA010</td>\n",
       "      <td>Super Saba+ Green 1kg</td>\n",
       "      <td>Bar Soap</td>\n",
       "      <td>Antibacterial Bar Soap</td>\n",
       "      <td>1kg</td>\n",
       "      <td>1</td>\n",
       "      <td>Kg</td>\n",
       "      <td>NaN</td>\n",
       "      <td>ridges bidii shop</td>\n",
       "      <td>NaN</td>\n",
       "      <td>...</td>\n",
       "      <td>10.0</td>\n",
       "      <td>220</td>\n",
       "      <td>2200</td>\n",
       "      <td>0.010</td>\n",
       "      <td>NaN</td>\n",
       "      <td>Shop</td>\n",
       "      <td>Retail</td>\n",
       "      <td>SME</td>\n",
       "      <td>2023-05-02 15:16:08</td>\n",
       "      <td>May</td>\n",
       "    </tr>\n",
       "    <tr>\n",
       "      <th>17237</th>\n",
       "      <td>GA011</td>\n",
       "      <td>Super Saba+ Cream 1kg</td>\n",
       "      <td>Bar Soap</td>\n",
       "      <td>Antibacterial Bar Soap</td>\n",
       "      <td>1kg</td>\n",
       "      <td>1</td>\n",
       "      <td>Kg</td>\n",
       "      <td>NaN</td>\n",
       "      <td>The truth mini- maili 4</td>\n",
       "      <td>NaN</td>\n",
       "      <td>...</td>\n",
       "      <td>20.0</td>\n",
       "      <td>220</td>\n",
       "      <td>4400</td>\n",
       "      <td>0.020</td>\n",
       "      <td>Bhumi</td>\n",
       "      <td>Minimart</td>\n",
       "      <td>Retail</td>\n",
       "      <td>SME</td>\n",
       "      <td>2023-05-25 16:29:45</td>\n",
       "      <td>May</td>\n",
       "    </tr>\n",
       "    <tr>\n",
       "      <th>17238</th>\n",
       "      <td>GA011</td>\n",
       "      <td>Super Saba+ Cream 1kg</td>\n",
       "      <td>Bar Soap</td>\n",
       "      <td>Antibacterial Bar Soap</td>\n",
       "      <td>1kg</td>\n",
       "      <td>1</td>\n",
       "      <td>Kg</td>\n",
       "      <td>NaN</td>\n",
       "      <td>Zion Mart</td>\n",
       "      <td>NaN</td>\n",
       "      <td>...</td>\n",
       "      <td>1.0</td>\n",
       "      <td>1700</td>\n",
       "      <td>1700</td>\n",
       "      <td>0.001</td>\n",
       "      <td>NaN</td>\n",
       "      <td>Shop</td>\n",
       "      <td>Retail</td>\n",
       "      <td>Sme</td>\n",
       "      <td>2023-05-19 20:55:07</td>\n",
       "      <td>May</td>\n",
       "    </tr>\n",
       "    <tr>\n",
       "      <th>17239</th>\n",
       "      <td>GA011</td>\n",
       "      <td>Super Saba+ Cream 1kg</td>\n",
       "      <td>Bar Soap</td>\n",
       "      <td>Antibacterial Bar Soap</td>\n",
       "      <td>1kg</td>\n",
       "      <td>1</td>\n",
       "      <td>Kg</td>\n",
       "      <td>NaN</td>\n",
       "      <td>Catherene mueni</td>\n",
       "      <td>NaN</td>\n",
       "      <td>...</td>\n",
       "      <td>10.0</td>\n",
       "      <td>1700</td>\n",
       "      <td>17000</td>\n",
       "      <td>0.010</td>\n",
       "      <td>NaN</td>\n",
       "      <td>Shop</td>\n",
       "      <td>Retail</td>\n",
       "      <td>SME</td>\n",
       "      <td>2023-05-16 21:52:53</td>\n",
       "      <td>May</td>\n",
       "    </tr>\n",
       "    <tr>\n",
       "      <th>17240</th>\n",
       "      <td>GA011</td>\n",
       "      <td>Super Saba+ Cream 1kg</td>\n",
       "      <td>Bar Soap</td>\n",
       "      <td>Antibacterial Bar Soap</td>\n",
       "      <td>1kg</td>\n",
       "      <td>1</td>\n",
       "      <td>Kg</td>\n",
       "      <td>NaN</td>\n",
       "      <td>New point shop-mti moja</td>\n",
       "      <td>NaN</td>\n",
       "      <td>...</td>\n",
       "      <td>10.0</td>\n",
       "      <td>220</td>\n",
       "      <td>2200</td>\n",
       "      <td>0.010</td>\n",
       "      <td>Bhumi</td>\n",
       "      <td>Shop</td>\n",
       "      <td>Retail</td>\n",
       "      <td>SME</td>\n",
       "      <td>2023-05-16 16:21:22</td>\n",
       "      <td>May</td>\n",
       "    </tr>\n",
       "  </tbody>\n",
       "</table>\n",
       "<p>17241 rows × 24 columns</p>\n",
       "</div>"
      ],
      "text/plain": [
       "      Product_Code           Product_Name Product_Category   \n",
       "0             1101        Avena Oil 500ml              Oil  \\\n",
       "1             1101        Avena Oil 500ml              Oil   \n",
       "2             1101        Avena Oil 500ml              Oil   \n",
       "3             1101        Avena Oil 500ml              Oil   \n",
       "4             1101        Avena Oil 500ml              Oil   \n",
       "...            ...                    ...              ...   \n",
       "17236        GA010  Super Saba+ Green 1kg         Bar Soap   \n",
       "17237        GA011  Super Saba+ Cream 1kg         Bar Soap   \n",
       "17238        GA011  Super Saba+ Cream 1kg         Bar Soap   \n",
       "17239        GA011  Super Saba+ Cream 1kg         Bar Soap   \n",
       "17240        GA011  Super Saba+ Cream 1kg         Bar Soap   \n",
       "\n",
       "         Product_Sub_Category    Sku  Quantity_per_Sku Unit_Measure Supplier   \n",
       "0                      Cp Oil  500ml               500           ml      NaN  \\\n",
       "1                      Cp Oil  500ml               500           ml      NaN   \n",
       "2                      Cp Oil  500ml               500           ml      NaN   \n",
       "3                      Cp Oil  500ml               500           ml      NaN   \n",
       "4                      Cp Oil  500ml               500           ml      NaN   \n",
       "...                       ...    ...               ...          ...      ...   \n",
       "17236  Antibacterial Bar Soap    1kg                 1           Kg      NaN   \n",
       "17237  Antibacterial Bar Soap    1kg                 1           Kg      NaN   \n",
       "17238  Antibacterial Bar Soap    1kg                 1           Kg      NaN   \n",
       "17239  Antibacterial Bar Soap    1kg                 1           Kg      NaN   \n",
       "17240  Antibacterial Bar Soap    1kg                 1           Kg      NaN   \n",
       "\n",
       "                         Client Client_Code  ... Quantity Price  value   \n",
       "0        Ebenezer Shop Makutano         NaN  ...     12.0   230   2760  \\\n",
       "1                       sinende         NaN  ...     12.0   230   2760   \n",
       "2                        wapati         NaN  ...     12.0   230   2760   \n",
       "3                    fauna mini         NaN  ...     12.0   230   2760   \n",
       "4      mega supamarket downtown         NaN  ...     24.0   230   5520   \n",
       "...                         ...         ...  ...      ...   ...    ...   \n",
       "17236         ridges bidii shop         NaN  ...     10.0   220   2200   \n",
       "17237   The truth mini- maili 4         NaN  ...     20.0   220   4400   \n",
       "17238                 Zion Mart         NaN  ...      1.0  1700   1700   \n",
       "17239           Catherene mueni         NaN  ...     10.0  1700  17000   \n",
       "17240   New point shop-mti moja         NaN  ...     10.0   220   2200   \n",
       "\n",
       "      Volume_in_Tonnes  Client_Ref  Client_Category  Client_Industry   \n",
       "0                0.006         NaN             Shop           Retail  \\\n",
       "1                0.006         NaN         Minimart           Retail   \n",
       "2                0.006        self             Shop           Retail   \n",
       "3                0.006        self         Minimart           Retail   \n",
       "4                0.012         NaN             Shop           Retail   \n",
       "...                ...         ...              ...              ...   \n",
       "17236            0.010         NaN             Shop           Retail   \n",
       "17237            0.020       Bhumi         Minimart           Retail   \n",
       "17238            0.001         NaN             Shop           Retail   \n",
       "17239            0.010         NaN             Shop           Retail   \n",
       "17240            0.010       Bhumi             Shop           Retail   \n",
       "\n",
       "       Client_Size            Date_Sold month  \n",
       "0              Sme  2023-04-29 14:29:46   Apr  \n",
       "1              SME  2023-04-28 11:10:52   Apr  \n",
       "2              SME  2023-04-28 10:28:12   Apr  \n",
       "3              SME  2023-04-27 12:23:26   Apr  \n",
       "4              SME  2023-04-27 09:25:24   Apr  \n",
       "...            ...                  ...   ...  \n",
       "17236          SME  2023-05-02 15:16:08   May  \n",
       "17237          SME  2023-05-25 16:29:45   May  \n",
       "17238          Sme  2023-05-19 20:55:07   May  \n",
       "17239          SME  2023-05-16 21:52:53   May  \n",
       "17240          SME  2023-05-16 16:21:22   May  \n",
       "\n",
       "[17241 rows x 24 columns]"
      ]
     },
     "execution_count": 7,
     "metadata": {},
     "output_type": "execute_result"
    }
   ],
   "source": [
    "df"
   ]
  },
  {
   "cell_type": "code",
   "execution_count": 8,
   "id": "ed55919c",
   "metadata": {},
   "outputs": [],
   "source": [
    "df['total_cost'] = df['Quantity']*df['Price']"
   ]
  },
  {
   "cell_type": "code",
   "execution_count": 9,
   "id": "1de66305",
   "metadata": {},
   "outputs": [
    {
     "data": {
      "text/plain": [
       "<pandas.core.groupby.generic.DataFrameGroupBy object at 0x000002018DA2B2D0>"
      ]
     },
     "execution_count": 9,
     "metadata": {},
     "output_type": "execute_result"
    }
   ],
   "source": [
    "df.groupby(['Sales_Rep'])"
   ]
  },
  {
   "cell_type": "code",
   "execution_count": 1,
   "id": "39984f40",
   "metadata": {},
   "outputs": [
    {
     "ename": "NameError",
     "evalue": "name 'df' is not defined",
     "output_type": "error",
     "traceback": [
      "\u001b[1;31m---------------------------------------------------------------------------\u001b[0m",
      "\u001b[1;31mNameError\u001b[0m                                 Traceback (most recent call last)",
      "Cell \u001b[1;32mIn[1], line 1\u001b[0m\n\u001b[1;32m----> 1\u001b[0m reps\u001b[38;5;241m=\u001b[39m\u001b[43mdf\u001b[49m[\u001b[38;5;124m'\u001b[39m\u001b[38;5;124mmonth\u001b[39m\u001b[38;5;124m'\u001b[39m]\u001b[38;5;241m.\u001b[39mvalue_counts()\n\u001b[0;32m      2\u001b[0m reps\n",
      "\u001b[1;31mNameError\u001b[0m: name 'df' is not defined"
     ]
    }
   ],
   "source": [
    "reps=df['month'].value_counts()\n",
    "reps"
   ]
  },
  {
   "cell_type": "code",
   "execution_count": 11,
   "id": "7b7faeac",
   "metadata": {},
   "outputs": [
    {
     "ename": "SyntaxError",
     "evalue": "unterminated string literal (detected at line 1) (1904342348.py, line 1)",
     "output_type": "error",
     "traceback": [
      "\u001b[1;36m  Cell \u001b[1;32mIn[11], line 1\u001b[1;36m\u001b[0m\n\u001b[1;33m    df.columns lesRep')['clientName'].nunique()\u001b[0m\n\u001b[1;37m                                   ^\u001b[0m\n\u001b[1;31mSyntaxError\u001b[0m\u001b[1;31m:\u001b[0m unterminated string literal (detected at line 1)\n"
     ]
    }
   ],
   "source": [
    "df.columns lesRep')['clientName'].nunique()"
   ]
  },
  {
   "cell_type": "code",
   "execution_count": null,
   "id": "5a9a9065",
   "metadata": {},
   "outputs": [],
   "source": [
    "sales_by_product= (df.groupby(by=[\"Product_Name\"]).sum()[[\"Volume_in_Tonnes\"]].sort_values(by=\"Volume_in_Tonnes\"))"
   ]
  },
  {
   "cell_type": "code",
   "execution_count": 29,
   "id": "f5df7a0b",
   "metadata": {},
   "outputs": [
    {
     "ename": "KeyError",
     "evalue": "'Apr'",
     "output_type": "error",
     "traceback": [
      "\u001b[1;31m---------------------------------------------------------------------------\u001b[0m",
      "\u001b[1;31mKeyError\u001b[0m                                  Traceback (most recent call last)",
      "File \u001b[1;32m~\\AppData\\Local\\Programs\\Python\\Python311\\Lib\\site-packages\\pandas\\core\\indexes\\base.py:3652\u001b[0m, in \u001b[0;36mIndex.get_loc\u001b[1;34m(self, key)\u001b[0m\n\u001b[0;32m   3651\u001b[0m \u001b[38;5;28;01mtry\u001b[39;00m:\n\u001b[1;32m-> 3652\u001b[0m     \u001b[38;5;28;01mreturn\u001b[39;00m \u001b[38;5;28;43mself\u001b[39;49m\u001b[38;5;241;43m.\u001b[39;49m\u001b[43m_engine\u001b[49m\u001b[38;5;241;43m.\u001b[39;49m\u001b[43mget_loc\u001b[49m\u001b[43m(\u001b[49m\u001b[43mcasted_key\u001b[49m\u001b[43m)\u001b[49m\n\u001b[0;32m   3653\u001b[0m \u001b[38;5;28;01mexcept\u001b[39;00m \u001b[38;5;167;01mKeyError\u001b[39;00m \u001b[38;5;28;01mas\u001b[39;00m err:\n",
      "File \u001b[1;32m~\\AppData\\Local\\Programs\\Python\\Python311\\Lib\\site-packages\\pandas\\_libs\\index.pyx:147\u001b[0m, in \u001b[0;36mpandas._libs.index.IndexEngine.get_loc\u001b[1;34m()\u001b[0m\n",
      "File \u001b[1;32m~\\AppData\\Local\\Programs\\Python\\Python311\\Lib\\site-packages\\pandas\\_libs\\index.pyx:176\u001b[0m, in \u001b[0;36mpandas._libs.index.IndexEngine.get_loc\u001b[1;34m()\u001b[0m\n",
      "File \u001b[1;32mpandas\\_libs\\hashtable_class_helper.pxi:7080\u001b[0m, in \u001b[0;36mpandas._libs.hashtable.PyObjectHashTable.get_item\u001b[1;34m()\u001b[0m\n",
      "File \u001b[1;32mpandas\\_libs\\hashtable_class_helper.pxi:7088\u001b[0m, in \u001b[0;36mpandas._libs.hashtable.PyObjectHashTable.get_item\u001b[1;34m()\u001b[0m\n",
      "\u001b[1;31mKeyError\u001b[0m: 'Apr'",
      "\nThe above exception was the direct cause of the following exception:\n",
      "\u001b[1;31mKeyError\u001b[0m                                  Traceback (most recent call last)",
      "Cell \u001b[1;32mIn[29], line 2\u001b[0m\n\u001b[0;32m      1\u001b[0m sal\u001b[38;5;241m=\u001b[39mpd\u001b[38;5;241m.\u001b[39mDataFrame(df\u001b[38;5;241m.\u001b[39mgroupby(\u001b[38;5;124m\"\u001b[39m\u001b[38;5;124mmonth\u001b[39m\u001b[38;5;124m\"\u001b[39m)[\u001b[38;5;124m\"\u001b[39m\u001b[38;5;124mvalue\u001b[39m\u001b[38;5;124m\"\u001b[39m]\u001b[38;5;241m.\u001b[39msum())\n\u001b[1;32m----> 2\u001b[0m \u001b[43msal\u001b[49m\u001b[38;5;241;43m.\u001b[39;49m\u001b[43msort_values\u001b[49m\u001b[43m(\u001b[49m\u001b[38;5;124;43m'\u001b[39;49m\u001b[38;5;124;43mmonth\u001b[39;49m\u001b[38;5;124;43m'\u001b[39;49m\u001b[43m,\u001b[49m\u001b[43m \u001b[49m\u001b[43mkey\u001b[49m\u001b[43m \u001b[49m\u001b[38;5;241;43m=\u001b[39;49m\u001b[43m \u001b[49m\u001b[38;5;28;43;01mlambda\u001b[39;49;00m\u001b[43m \u001b[49m\u001b[43mx\u001b[49m\u001b[43m \u001b[49m\u001b[43m:\u001b[49m\u001b[43m \u001b[49m\u001b[43mx\u001b[49m\u001b[38;5;241;43m.\u001b[39;49m\u001b[43mapply\u001b[49m\u001b[43m \u001b[49m\u001b[43m(\u001b[49m\u001b[38;5;28;43;01mlambda\u001b[39;49;00m\u001b[43m \u001b[49m\u001b[43mx\u001b[49m\u001b[43m \u001b[49m\u001b[43m:\u001b[49m\u001b[43m \u001b[49m\u001b[43msal\u001b[49m\u001b[43m[\u001b[49m\u001b[43mx\u001b[49m\u001b[43m]\u001b[49m\u001b[43m)\u001b[49m\u001b[43m)\u001b[49m\n",
      "File \u001b[1;32m~\\AppData\\Local\\Programs\\Python\\Python311\\Lib\\site-packages\\pandas\\core\\frame.py:6779\u001b[0m, in \u001b[0;36mDataFrame.sort_values\u001b[1;34m(self, by, axis, ascending, inplace, kind, na_position, ignore_index, key)\u001b[0m\n\u001b[0;32m   6776\u001b[0m     \u001b[38;5;28;01mif\u001b[39;00m \u001b[38;5;28misinstance\u001b[39m(ascending, (\u001b[38;5;28mtuple\u001b[39m, \u001b[38;5;28mlist\u001b[39m)):\n\u001b[0;32m   6777\u001b[0m         ascending \u001b[38;5;241m=\u001b[39m ascending[\u001b[38;5;241m0\u001b[39m]\n\u001b[1;32m-> 6779\u001b[0m     indexer \u001b[38;5;241m=\u001b[39m \u001b[43mnargsort\u001b[49m\u001b[43m(\u001b[49m\n\u001b[0;32m   6780\u001b[0m \u001b[43m        \u001b[49m\u001b[43mk\u001b[49m\u001b[43m,\u001b[49m\u001b[43m \u001b[49m\u001b[43mkind\u001b[49m\u001b[38;5;241;43m=\u001b[39;49m\u001b[43mkind\u001b[49m\u001b[43m,\u001b[49m\u001b[43m \u001b[49m\u001b[43mascending\u001b[49m\u001b[38;5;241;43m=\u001b[39;49m\u001b[43mascending\u001b[49m\u001b[43m,\u001b[49m\u001b[43m \u001b[49m\u001b[43mna_position\u001b[49m\u001b[38;5;241;43m=\u001b[39;49m\u001b[43mna_position\u001b[49m\u001b[43m,\u001b[49m\u001b[43m \u001b[49m\u001b[43mkey\u001b[49m\u001b[38;5;241;43m=\u001b[39;49m\u001b[43mkey\u001b[49m\n\u001b[0;32m   6781\u001b[0m \u001b[43m    \u001b[49m\u001b[43m)\u001b[49m\n\u001b[0;32m   6782\u001b[0m \u001b[38;5;28;01melse\u001b[39;00m:\n\u001b[0;32m   6783\u001b[0m     \u001b[38;5;28;01mif\u001b[39;00m inplace:\n",
      "File \u001b[1;32m~\\AppData\\Local\\Programs\\Python\\Python311\\Lib\\site-packages\\pandas\\core\\sorting.py:399\u001b[0m, in \u001b[0;36mnargsort\u001b[1;34m(items, kind, ascending, na_position, key, mask)\u001b[0m\n\u001b[0;32m    377\u001b[0m \u001b[38;5;250m\u001b[39m\u001b[38;5;124;03m\"\"\"\u001b[39;00m\n\u001b[0;32m    378\u001b[0m \u001b[38;5;124;03mIntended to be a drop-in replacement for np.argsort which handles NaNs.\u001b[39;00m\n\u001b[0;32m    379\u001b[0m \n\u001b[1;32m   (...)\u001b[0m\n\u001b[0;32m    395\u001b[0m \u001b[38;5;124;03mnp.ndarray[np.intp]\u001b[39;00m\n\u001b[0;32m    396\u001b[0m \u001b[38;5;124;03m\"\"\"\u001b[39;00m\n\u001b[0;32m    398\u001b[0m \u001b[38;5;28;01mif\u001b[39;00m key \u001b[38;5;129;01mis\u001b[39;00m \u001b[38;5;129;01mnot\u001b[39;00m \u001b[38;5;28;01mNone\u001b[39;00m:\n\u001b[1;32m--> 399\u001b[0m     items \u001b[38;5;241m=\u001b[39m \u001b[43mensure_key_mapped\u001b[49m\u001b[43m(\u001b[49m\u001b[43mitems\u001b[49m\u001b[43m,\u001b[49m\u001b[43m \u001b[49m\u001b[43mkey\u001b[49m\u001b[43m)\u001b[49m\n\u001b[0;32m    400\u001b[0m     \u001b[38;5;28;01mreturn\u001b[39;00m nargsort(\n\u001b[0;32m    401\u001b[0m         items,\n\u001b[0;32m    402\u001b[0m         kind\u001b[38;5;241m=\u001b[39mkind,\n\u001b[1;32m   (...)\u001b[0m\n\u001b[0;32m    406\u001b[0m         mask\u001b[38;5;241m=\u001b[39mmask,\n\u001b[0;32m    407\u001b[0m     )\n\u001b[0;32m    409\u001b[0m \u001b[38;5;28;01mif\u001b[39;00m \u001b[38;5;28misinstance\u001b[39m(items, ABCRangeIndex):\n",
      "File \u001b[1;32m~\\AppData\\Local\\Programs\\Python\\Python311\\Lib\\site-packages\\pandas\\core\\sorting.py:557\u001b[0m, in \u001b[0;36mensure_key_mapped\u001b[1;34m(values, key, levels)\u001b[0m\n\u001b[0;32m    554\u001b[0m \u001b[38;5;28;01mif\u001b[39;00m \u001b[38;5;28misinstance\u001b[39m(values, ABCMultiIndex):\n\u001b[0;32m    555\u001b[0m     \u001b[38;5;28;01mreturn\u001b[39;00m _ensure_key_mapped_multiindex(values, key, level\u001b[38;5;241m=\u001b[39mlevels)\n\u001b[1;32m--> 557\u001b[0m result \u001b[38;5;241m=\u001b[39m \u001b[43mkey\u001b[49m\u001b[43m(\u001b[49m\u001b[43mvalues\u001b[49m\u001b[38;5;241;43m.\u001b[39;49m\u001b[43mcopy\u001b[49m\u001b[43m(\u001b[49m\u001b[43m)\u001b[49m\u001b[43m)\u001b[49m\n\u001b[0;32m    558\u001b[0m \u001b[38;5;28;01mif\u001b[39;00m \u001b[38;5;28mlen\u001b[39m(result) \u001b[38;5;241m!=\u001b[39m \u001b[38;5;28mlen\u001b[39m(values):\n\u001b[0;32m    559\u001b[0m     \u001b[38;5;28;01mraise\u001b[39;00m \u001b[38;5;167;01mValueError\u001b[39;00m(\n\u001b[0;32m    560\u001b[0m         \u001b[38;5;124m\"\u001b[39m\u001b[38;5;124mUser-provided `key` function must not change the shape of the array.\u001b[39m\u001b[38;5;124m\"\u001b[39m\n\u001b[0;32m    561\u001b[0m     )\n",
      "Cell \u001b[1;32mIn[29], line 2\u001b[0m, in \u001b[0;36m<lambda>\u001b[1;34m(x)\u001b[0m\n\u001b[0;32m      1\u001b[0m sal\u001b[38;5;241m=\u001b[39mpd\u001b[38;5;241m.\u001b[39mDataFrame(df\u001b[38;5;241m.\u001b[39mgroupby(\u001b[38;5;124m\"\u001b[39m\u001b[38;5;124mmonth\u001b[39m\u001b[38;5;124m\"\u001b[39m)[\u001b[38;5;124m\"\u001b[39m\u001b[38;5;124mvalue\u001b[39m\u001b[38;5;124m\"\u001b[39m]\u001b[38;5;241m.\u001b[39msum())\n\u001b[1;32m----> 2\u001b[0m sal\u001b[38;5;241m.\u001b[39msort_values(\u001b[38;5;124m'\u001b[39m\u001b[38;5;124mmonth\u001b[39m\u001b[38;5;124m'\u001b[39m, key \u001b[38;5;241m=\u001b[39m \u001b[38;5;28;01mlambda\u001b[39;00m x : \u001b[43mx\u001b[49m\u001b[38;5;241;43m.\u001b[39;49m\u001b[43mapply\u001b[49m\u001b[43m \u001b[49m\u001b[43m(\u001b[49m\u001b[38;5;28;43;01mlambda\u001b[39;49;00m\u001b[43m \u001b[49m\u001b[43mx\u001b[49m\u001b[43m \u001b[49m\u001b[43m:\u001b[49m\u001b[43m \u001b[49m\u001b[43msal\u001b[49m\u001b[43m[\u001b[49m\u001b[43mx\u001b[49m\u001b[43m]\u001b[49m\u001b[43m)\u001b[49m)\n",
      "File \u001b[1;32m~\\AppData\\Local\\Programs\\Python\\Python311\\Lib\\site-packages\\pandas\\core\\series.py:4626\u001b[0m, in \u001b[0;36mSeries.apply\u001b[1;34m(self, func, convert_dtype, args, **kwargs)\u001b[0m\n\u001b[0;32m   4516\u001b[0m \u001b[38;5;28;01mdef\u001b[39;00m \u001b[38;5;21mapply\u001b[39m(\n\u001b[0;32m   4517\u001b[0m     \u001b[38;5;28mself\u001b[39m,\n\u001b[0;32m   4518\u001b[0m     func: AggFuncType,\n\u001b[1;32m   (...)\u001b[0m\n\u001b[0;32m   4521\u001b[0m     \u001b[38;5;241m*\u001b[39m\u001b[38;5;241m*\u001b[39mkwargs,\n\u001b[0;32m   4522\u001b[0m ) \u001b[38;5;241m-\u001b[39m\u001b[38;5;241m>\u001b[39m DataFrame \u001b[38;5;241m|\u001b[39m Series:\n\u001b[0;32m   4523\u001b[0m \u001b[38;5;250m    \u001b[39m\u001b[38;5;124;03m\"\"\"\u001b[39;00m\n\u001b[0;32m   4524\u001b[0m \u001b[38;5;124;03m    Invoke function on values of Series.\u001b[39;00m\n\u001b[0;32m   4525\u001b[0m \n\u001b[1;32m   (...)\u001b[0m\n\u001b[0;32m   4624\u001b[0m \u001b[38;5;124;03m    dtype: float64\u001b[39;00m\n\u001b[0;32m   4625\u001b[0m \u001b[38;5;124;03m    \"\"\"\u001b[39;00m\n\u001b[1;32m-> 4626\u001b[0m     \u001b[38;5;28;01mreturn\u001b[39;00m \u001b[43mSeriesApply\u001b[49m\u001b[43m(\u001b[49m\u001b[38;5;28;43mself\u001b[39;49m\u001b[43m,\u001b[49m\u001b[43m \u001b[49m\u001b[43mfunc\u001b[49m\u001b[43m,\u001b[49m\u001b[43m \u001b[49m\u001b[43mconvert_dtype\u001b[49m\u001b[43m,\u001b[49m\u001b[43m \u001b[49m\u001b[43margs\u001b[49m\u001b[43m,\u001b[49m\u001b[43m \u001b[49m\u001b[43mkwargs\u001b[49m\u001b[43m)\u001b[49m\u001b[38;5;241;43m.\u001b[39;49m\u001b[43mapply\u001b[49m\u001b[43m(\u001b[49m\u001b[43m)\u001b[49m\n",
      "File \u001b[1;32m~\\AppData\\Local\\Programs\\Python\\Python311\\Lib\\site-packages\\pandas\\core\\apply.py:1025\u001b[0m, in \u001b[0;36mSeriesApply.apply\u001b[1;34m(self)\u001b[0m\n\u001b[0;32m   1022\u001b[0m     \u001b[38;5;28;01mreturn\u001b[39;00m \u001b[38;5;28mself\u001b[39m\u001b[38;5;241m.\u001b[39mapply_str()\n\u001b[0;32m   1024\u001b[0m \u001b[38;5;66;03m# self.f is Callable\u001b[39;00m\n\u001b[1;32m-> 1025\u001b[0m \u001b[38;5;28;01mreturn\u001b[39;00m \u001b[38;5;28;43mself\u001b[39;49m\u001b[38;5;241;43m.\u001b[39;49m\u001b[43mapply_standard\u001b[49m\u001b[43m(\u001b[49m\u001b[43m)\u001b[49m\n",
      "File \u001b[1;32m~\\AppData\\Local\\Programs\\Python\\Python311\\Lib\\site-packages\\pandas\\core\\apply.py:1076\u001b[0m, in \u001b[0;36mSeriesApply.apply_standard\u001b[1;34m(self)\u001b[0m\n\u001b[0;32m   1074\u001b[0m     \u001b[38;5;28;01melse\u001b[39;00m:\n\u001b[0;32m   1075\u001b[0m         values \u001b[38;5;241m=\u001b[39m obj\u001b[38;5;241m.\u001b[39mastype(\u001b[38;5;28mobject\u001b[39m)\u001b[38;5;241m.\u001b[39m_values\n\u001b[1;32m-> 1076\u001b[0m         mapped \u001b[38;5;241m=\u001b[39m \u001b[43mlib\u001b[49m\u001b[38;5;241;43m.\u001b[39;49m\u001b[43mmap_infer\u001b[49m\u001b[43m(\u001b[49m\n\u001b[0;32m   1077\u001b[0m \u001b[43m            \u001b[49m\u001b[43mvalues\u001b[49m\u001b[43m,\u001b[49m\n\u001b[0;32m   1078\u001b[0m \u001b[43m            \u001b[49m\u001b[43mf\u001b[49m\u001b[43m,\u001b[49m\n\u001b[0;32m   1079\u001b[0m \u001b[43m            \u001b[49m\u001b[43mconvert\u001b[49m\u001b[38;5;241;43m=\u001b[39;49m\u001b[38;5;28;43mself\u001b[39;49m\u001b[38;5;241;43m.\u001b[39;49m\u001b[43mconvert_dtype\u001b[49m\u001b[43m,\u001b[49m\n\u001b[0;32m   1080\u001b[0m \u001b[43m        \u001b[49m\u001b[43m)\u001b[49m\n\u001b[0;32m   1082\u001b[0m \u001b[38;5;28;01mif\u001b[39;00m \u001b[38;5;28mlen\u001b[39m(mapped) \u001b[38;5;129;01mand\u001b[39;00m \u001b[38;5;28misinstance\u001b[39m(mapped[\u001b[38;5;241m0\u001b[39m], ABCSeries):\n\u001b[0;32m   1083\u001b[0m     \u001b[38;5;66;03m# GH#43986 Need to do list(mapped) in order to get treated as nested\u001b[39;00m\n\u001b[0;32m   1084\u001b[0m     \u001b[38;5;66;03m#  See also GH#25959 regarding EA support\u001b[39;00m\n\u001b[0;32m   1085\u001b[0m     \u001b[38;5;28;01mreturn\u001b[39;00m obj\u001b[38;5;241m.\u001b[39m_constructor_expanddim(\u001b[38;5;28mlist\u001b[39m(mapped), index\u001b[38;5;241m=\u001b[39mobj\u001b[38;5;241m.\u001b[39mindex)\n",
      "File \u001b[1;32m~\\AppData\\Local\\Programs\\Python\\Python311\\Lib\\site-packages\\pandas\\_libs\\lib.pyx:2834\u001b[0m, in \u001b[0;36mpandas._libs.lib.map_infer\u001b[1;34m()\u001b[0m\n",
      "Cell \u001b[1;32mIn[29], line 2\u001b[0m, in \u001b[0;36m<lambda>\u001b[1;34m(x)\u001b[0m\n\u001b[0;32m      1\u001b[0m sal\u001b[38;5;241m=\u001b[39mpd\u001b[38;5;241m.\u001b[39mDataFrame(df\u001b[38;5;241m.\u001b[39mgroupby(\u001b[38;5;124m\"\u001b[39m\u001b[38;5;124mmonth\u001b[39m\u001b[38;5;124m\"\u001b[39m)[\u001b[38;5;124m\"\u001b[39m\u001b[38;5;124mvalue\u001b[39m\u001b[38;5;124m\"\u001b[39m]\u001b[38;5;241m.\u001b[39msum())\n\u001b[1;32m----> 2\u001b[0m sal\u001b[38;5;241m.\u001b[39msort_values(\u001b[38;5;124m'\u001b[39m\u001b[38;5;124mmonth\u001b[39m\u001b[38;5;124m'\u001b[39m, key \u001b[38;5;241m=\u001b[39m \u001b[38;5;28;01mlambda\u001b[39;00m x : x\u001b[38;5;241m.\u001b[39mapply (\u001b[38;5;28;01mlambda\u001b[39;00m x : \u001b[43msal\u001b[49m\u001b[43m[\u001b[49m\u001b[43mx\u001b[49m\u001b[43m]\u001b[49m))\n",
      "File \u001b[1;32m~\\AppData\\Local\\Programs\\Python\\Python311\\Lib\\site-packages\\pandas\\core\\frame.py:3761\u001b[0m, in \u001b[0;36mDataFrame.__getitem__\u001b[1;34m(self, key)\u001b[0m\n\u001b[0;32m   3759\u001b[0m \u001b[38;5;28;01mif\u001b[39;00m \u001b[38;5;28mself\u001b[39m\u001b[38;5;241m.\u001b[39mcolumns\u001b[38;5;241m.\u001b[39mnlevels \u001b[38;5;241m>\u001b[39m \u001b[38;5;241m1\u001b[39m:\n\u001b[0;32m   3760\u001b[0m     \u001b[38;5;28;01mreturn\u001b[39;00m \u001b[38;5;28mself\u001b[39m\u001b[38;5;241m.\u001b[39m_getitem_multilevel(key)\n\u001b[1;32m-> 3761\u001b[0m indexer \u001b[38;5;241m=\u001b[39m \u001b[38;5;28;43mself\u001b[39;49m\u001b[38;5;241;43m.\u001b[39;49m\u001b[43mcolumns\u001b[49m\u001b[38;5;241;43m.\u001b[39;49m\u001b[43mget_loc\u001b[49m\u001b[43m(\u001b[49m\u001b[43mkey\u001b[49m\u001b[43m)\u001b[49m\n\u001b[0;32m   3762\u001b[0m \u001b[38;5;28;01mif\u001b[39;00m is_integer(indexer):\n\u001b[0;32m   3763\u001b[0m     indexer \u001b[38;5;241m=\u001b[39m [indexer]\n",
      "File \u001b[1;32m~\\AppData\\Local\\Programs\\Python\\Python311\\Lib\\site-packages\\pandas\\core\\indexes\\base.py:3654\u001b[0m, in \u001b[0;36mIndex.get_loc\u001b[1;34m(self, key)\u001b[0m\n\u001b[0;32m   3652\u001b[0m     \u001b[38;5;28;01mreturn\u001b[39;00m \u001b[38;5;28mself\u001b[39m\u001b[38;5;241m.\u001b[39m_engine\u001b[38;5;241m.\u001b[39mget_loc(casted_key)\n\u001b[0;32m   3653\u001b[0m \u001b[38;5;28;01mexcept\u001b[39;00m \u001b[38;5;167;01mKeyError\u001b[39;00m \u001b[38;5;28;01mas\u001b[39;00m err:\n\u001b[1;32m-> 3654\u001b[0m     \u001b[38;5;28;01mraise\u001b[39;00m \u001b[38;5;167;01mKeyError\u001b[39;00m(key) \u001b[38;5;28;01mfrom\u001b[39;00m \u001b[38;5;21;01merr\u001b[39;00m\n\u001b[0;32m   3655\u001b[0m \u001b[38;5;28;01mexcept\u001b[39;00m \u001b[38;5;167;01mTypeError\u001b[39;00m:\n\u001b[0;32m   3656\u001b[0m     \u001b[38;5;66;03m# If we have a listlike key, _check_indexing_error will raise\u001b[39;00m\n\u001b[0;32m   3657\u001b[0m     \u001b[38;5;66;03m#  InvalidIndexError. Otherwise we fall through and re-raise\u001b[39;00m\n\u001b[0;32m   3658\u001b[0m     \u001b[38;5;66;03m#  the TypeError.\u001b[39;00m\n\u001b[0;32m   3659\u001b[0m     \u001b[38;5;28mself\u001b[39m\u001b[38;5;241m.\u001b[39m_check_indexing_error(key)\n",
      "\u001b[1;31mKeyError\u001b[0m: 'Apr'"
     ]
    }
   ],
   "source": [
    "sal=pd.DataFrame(df.groupby(\"month\")[\"value\"].sum())\n"
   ]
  },
  {
   "cell_type": "code",
   "execution_count": null,
   "id": "9452106d",
   "metadata": {},
   "outputs": [],
   "source": [
    "df[\"Value\"]= df[\"Value\"].astype('int')"
   ]
  },
  {
   "cell_type": "code",
   "execution_count": null,
   "id": "5fd98fa7",
   "metadata": {},
   "outputs": [],
   "source": [
    "df['Sales_Rep'].unique()"
   ]
  },
  {
   "cell_type": "code",
   "execution_count": null,
   "id": "0c2b6345",
   "metadata": {},
   "outputs": [],
   "source": [
    "import numpy as np\n",
    "df['Client_Category']= df['Client_Category'].replace(np.nan, 'Uncategorised')"
   ]
  },
  {
   "cell_type": "code",
   "execution_count": null,
   "id": "24891f65",
   "metadata": {},
   "outputs": [],
   "source": []
  },
  {
   "cell_type": "code",
   "execution_count": null,
   "id": "1d7f0c22",
   "metadata": {},
   "outputs": [],
   "source": [
    "fig_product.update_layout(\n",
    "    plot_bgcolor=\"rgba(0,0,0,0)\",\n",
    "    yaxis= (dict(showgrid=False))\n",
    ")"
   ]
  },
  {
   "cell_type": "code",
   "execution_count": null,
   "id": "5f5680f4",
   "metadata": {},
   "outputs": [],
   "source": [
    "df['value'] = pd.to_numeric(df['value'],errors='coerce')"
   ]
  },
  {
   "cell_type": "code",
   "execution_count": null,
   "id": "a060a7d8",
   "metadata": {},
   "outputs": [],
   "source": [
    "sales_by_clientcategory= (df.groupby(by=[\"Client_Category\"]).sum()[[\"value\"]].sort_values(by=\"value\"))"
   ]
  },
  {
   "cell_type": "code",
   "execution_count": 27,
   "id": "65d320c4",
   "metadata": {},
   "outputs": [
    {
     "data": {
      "application/vnd.plotly.v1+json": {
       "config": {
        "plotlyServerURL": "https://plot.ly"
       },
       "data": [
        {
         "hovertemplate": "variable=value<br>month=%{x}<br>_value=%{y}<extra></extra>",
         "legendgroup": "value",
         "line": {
          "color": "#000001",
          "dash": "solid"
         },
         "marker": {
          "symbol": "circle"
         },
         "mode": "lines",
         "name": "value",
         "orientation": "v",
         "showlegend": true,
         "type": "scatter",
         "x": [
          "Apr",
          "Feb",
          "Jan",
          "Mar",
          "May"
         ],
         "xaxis": "x",
         "y": [
          34993732,
          23105755,
          30250110,
          34668665,
          45125202
         ],
         "yaxis": "y"
        }
       ],
       "layout": {
        "legend": {
         "title": {
          "text": "variable"
         },
         "tracegroupgap": 0
        },
        "margin": {
         "t": 60
        },
        "template": {
         "data": {
          "candlestick": [
           {
            "decreasing": {
             "line": {
              "color": "#000033"
             }
            },
            "increasing": {
             "line": {
              "color": "#000032"
             }
            },
            "type": "candlestick"
           }
          ],
          "contour": [
           {
            "colorscale": [
             [
              0,
              "#000011"
             ],
             [
              0.1111111111111111,
              "#000012"
             ],
             [
              0.2222222222222222,
              "#000013"
             ],
             [
              0.3333333333333333,
              "#000014"
             ],
             [
              0.4444444444444444,
              "#000015"
             ],
             [
              0.5555555555555556,
              "#000016"
             ],
             [
              0.6666666666666666,
              "#000017"
             ],
             [
              0.7777777777777778,
              "#000018"
             ],
             [
              0.8888888888888888,
              "#000019"
             ],
             [
              1,
              "#000020"
             ]
            ],
            "type": "contour"
           }
          ],
          "contourcarpet": [
           {
            "colorscale": [
             [
              0,
              "#000011"
             ],
             [
              0.1111111111111111,
              "#000012"
             ],
             [
              0.2222222222222222,
              "#000013"
             ],
             [
              0.3333333333333333,
              "#000014"
             ],
             [
              0.4444444444444444,
              "#000015"
             ],
             [
              0.5555555555555556,
              "#000016"
             ],
             [
              0.6666666666666666,
              "#000017"
             ],
             [
              0.7777777777777778,
              "#000018"
             ],
             [
              0.8888888888888888,
              "#000019"
             ],
             [
              1,
              "#000020"
             ]
            ],
            "type": "contourcarpet"
           }
          ],
          "heatmap": [
           {
            "colorscale": [
             [
              0,
              "#000011"
             ],
             [
              0.1111111111111111,
              "#000012"
             ],
             [
              0.2222222222222222,
              "#000013"
             ],
             [
              0.3333333333333333,
              "#000014"
             ],
             [
              0.4444444444444444,
              "#000015"
             ],
             [
              0.5555555555555556,
              "#000016"
             ],
             [
              0.6666666666666666,
              "#000017"
             ],
             [
              0.7777777777777778,
              "#000018"
             ],
             [
              0.8888888888888888,
              "#000019"
             ],
             [
              1,
              "#000020"
             ]
            ],
            "type": "heatmap"
           }
          ],
          "histogram2d": [
           {
            "colorscale": [
             [
              0,
              "#000011"
             ],
             [
              0.1111111111111111,
              "#000012"
             ],
             [
              0.2222222222222222,
              "#000013"
             ],
             [
              0.3333333333333333,
              "#000014"
             ],
             [
              0.4444444444444444,
              "#000015"
             ],
             [
              0.5555555555555556,
              "#000016"
             ],
             [
              0.6666666666666666,
              "#000017"
             ],
             [
              0.7777777777777778,
              "#000018"
             ],
             [
              0.8888888888888888,
              "#000019"
             ],
             [
              1,
              "#000020"
             ]
            ],
            "type": "histogram2d"
           }
          ],
          "icicle": [
           {
            "textfont": {
             "color": "white"
            },
            "type": "icicle"
           }
          ],
          "sankey": [
           {
            "textfont": {
             "color": "#000036"
            },
            "type": "sankey"
           }
          ],
          "scatter": [
           {
            "marker": {
             "line": {
              "width": 0
             }
            },
            "type": "scatter"
           }
          ],
          "table": [
           {
            "cells": {
             "fill": {
              "color": "#000038"
             },
             "font": {
              "color": "#000037"
             },
             "line": {
              "color": "#000039"
             }
            },
            "header": {
             "fill": {
              "color": "#000040"
             },
             "font": {
              "color": "#000036"
             },
             "line": {
              "color": "#000039"
             }
            },
            "type": "table"
           }
          ],
          "waterfall": [
           {
            "connector": {
             "line": {
              "color": "#000036",
              "width": 2
             }
            },
            "decreasing": {
             "marker": {
              "color": "#000033"
             }
            },
            "increasing": {
             "marker": {
              "color": "#000032"
             }
            },
            "totals": {
             "marker": {
              "color": "#000034"
             }
            },
            "type": "waterfall"
           }
          ]
         },
         "layout": {
          "coloraxis": {
           "colorscale": [
            [
             0,
             "#000011"
            ],
            [
             0.1111111111111111,
             "#000012"
            ],
            [
             0.2222222222222222,
             "#000013"
            ],
            [
             0.3333333333333333,
             "#000014"
            ],
            [
             0.4444444444444444,
             "#000015"
            ],
            [
             0.5555555555555556,
             "#000016"
            ],
            [
             0.6666666666666666,
             "#000017"
            ],
            [
             0.7777777777777778,
             "#000018"
            ],
            [
             0.8888888888888888,
             "#000019"
            ],
            [
             1,
             "#000020"
            ]
           ]
          },
          "colorscale": {
           "diverging": [
            [
             0,
             "#000021"
            ],
            [
             0.1,
             "#000022"
            ],
            [
             0.2,
             "#000023"
            ],
            [
             0.3,
             "#000024"
            ],
            [
             0.4,
             "#000025"
            ],
            [
             0.5,
             "#000026"
            ],
            [
             0.6,
             "#000027"
            ],
            [
             0.7,
             "#000028"
            ],
            [
             0.8,
             "#000029"
            ],
            [
             0.9,
             "#000030"
            ],
            [
             1,
             "#000031"
            ]
           ],
           "sequential": [
            [
             0,
             "#000011"
            ],
            [
             0.1111111111111111,
             "#000012"
            ],
            [
             0.2222222222222222,
             "#000013"
            ],
            [
             0.3333333333333333,
             "#000014"
            ],
            [
             0.4444444444444444,
             "#000015"
            ],
            [
             0.5555555555555556,
             "#000016"
            ],
            [
             0.6666666666666666,
             "#000017"
            ],
            [
             0.7777777777777778,
             "#000018"
            ],
            [
             0.8888888888888888,
             "#000019"
            ],
            [
             1,
             "#000020"
            ]
           ],
           "sequentialminus": [
            [
             0,
             "#000011"
            ],
            [
             0.1111111111111111,
             "#000012"
            ],
            [
             0.2222222222222222,
             "#000013"
            ],
            [
             0.3333333333333333,
             "#000014"
            ],
            [
             0.4444444444444444,
             "#000015"
            ],
            [
             0.5555555555555556,
             "#000016"
            ],
            [
             0.6666666666666666,
             "#000017"
            ],
            [
             0.7777777777777778,
             "#000018"
            ],
            [
             0.8888888888888888,
             "#000019"
            ],
            [
             1,
             "#000020"
            ]
           ]
          },
          "colorway": [
           "#000001",
           "#000002",
           "#000003",
           "#000004",
           "#000005",
           "#000006",
           "#000007",
           "#000008",
           "#000009",
           "#000010"
          ]
         }
        },
        "xaxis": {
         "anchor": "y",
         "domain": [
          0,
          1
         ],
         "title": {
          "text": "month"
         }
        },
        "yaxis": {
         "anchor": "x",
         "domain": [
          0,
          1
         ],
         "title": {
          "text": "_value"
         }
        }
       }
      },
      "text/html": [
       "<div>                            <div id=\"ff021642-c735-418c-917b-0ff2f6a34301\" class=\"plotly-graph-div\" style=\"height:525px; width:100%;\"></div>            <script type=\"text/javascript\">                require([\"plotly\"], function(Plotly) {                    window.PLOTLYENV=window.PLOTLYENV || {};                                    if (document.getElementById(\"ff021642-c735-418c-917b-0ff2f6a34301\")) {                    Plotly.newPlot(                        \"ff021642-c735-418c-917b-0ff2f6a34301\",                        [{\"hovertemplate\":\"variable=value<br>month=%{x}<br>_value=%{y}<extra></extra>\",\"legendgroup\":\"value\",\"line\":{\"color\":\"#000001\",\"dash\":\"solid\"},\"marker\":{\"symbol\":\"circle\"},\"mode\":\"lines\",\"name\":\"value\",\"orientation\":\"v\",\"showlegend\":true,\"x\":[\"Apr\",\"Feb\",\"Jan\",\"Mar\",\"May\"],\"xaxis\":\"x\",\"y\":[34993732,23105755,30250110,34668665,45125202],\"yaxis\":\"y\",\"type\":\"scatter\"}],                        {\"template\":{\"data\":{\"candlestick\":[{\"decreasing\":{\"line\":{\"color\":\"#000033\"}},\"increasing\":{\"line\":{\"color\":\"#000032\"}},\"type\":\"candlestick\"}],\"contourcarpet\":[{\"colorscale\":[[0.0,\"#000011\"],[0.1111111111111111,\"#000012\"],[0.2222222222222222,\"#000013\"],[0.3333333333333333,\"#000014\"],[0.4444444444444444,\"#000015\"],[0.5555555555555556,\"#000016\"],[0.6666666666666666,\"#000017\"],[0.7777777777777778,\"#000018\"],[0.8888888888888888,\"#000019\"],[1.0,\"#000020\"]],\"type\":\"contourcarpet\"}],\"contour\":[{\"colorscale\":[[0.0,\"#000011\"],[0.1111111111111111,\"#000012\"],[0.2222222222222222,\"#000013\"],[0.3333333333333333,\"#000014\"],[0.4444444444444444,\"#000015\"],[0.5555555555555556,\"#000016\"],[0.6666666666666666,\"#000017\"],[0.7777777777777778,\"#000018\"],[0.8888888888888888,\"#000019\"],[1.0,\"#000020\"]],\"type\":\"contour\"}],\"heatmap\":[{\"colorscale\":[[0.0,\"#000011\"],[0.1111111111111111,\"#000012\"],[0.2222222222222222,\"#000013\"],[0.3333333333333333,\"#000014\"],[0.4444444444444444,\"#000015\"],[0.5555555555555556,\"#000016\"],[0.6666666666666666,\"#000017\"],[0.7777777777777778,\"#000018\"],[0.8888888888888888,\"#000019\"],[1.0,\"#000020\"]],\"type\":\"heatmap\"}],\"histogram2d\":[{\"colorscale\":[[0.0,\"#000011\"],[0.1111111111111111,\"#000012\"],[0.2222222222222222,\"#000013\"],[0.3333333333333333,\"#000014\"],[0.4444444444444444,\"#000015\"],[0.5555555555555556,\"#000016\"],[0.6666666666666666,\"#000017\"],[0.7777777777777778,\"#000018\"],[0.8888888888888888,\"#000019\"],[1.0,\"#000020\"]],\"type\":\"histogram2d\"}],\"icicle\":[{\"textfont\":{\"color\":\"white\"},\"type\":\"icicle\"}],\"sankey\":[{\"textfont\":{\"color\":\"#000036\"},\"type\":\"sankey\"}],\"scatter\":[{\"marker\":{\"line\":{\"width\":0}},\"type\":\"scatter\"}],\"table\":[{\"cells\":{\"fill\":{\"color\":\"#000038\"},\"font\":{\"color\":\"#000037\"},\"line\":{\"color\":\"#000039\"}},\"header\":{\"fill\":{\"color\":\"#000040\"},\"font\":{\"color\":\"#000036\"},\"line\":{\"color\":\"#000039\"}},\"type\":\"table\"}],\"waterfall\":[{\"connector\":{\"line\":{\"color\":\"#000036\",\"width\":2}},\"decreasing\":{\"marker\":{\"color\":\"#000033\"}},\"increasing\":{\"marker\":{\"color\":\"#000032\"}},\"totals\":{\"marker\":{\"color\":\"#000034\"}},\"type\":\"waterfall\"}]},\"layout\":{\"coloraxis\":{\"colorscale\":[[0.0,\"#000011\"],[0.1111111111111111,\"#000012\"],[0.2222222222222222,\"#000013\"],[0.3333333333333333,\"#000014\"],[0.4444444444444444,\"#000015\"],[0.5555555555555556,\"#000016\"],[0.6666666666666666,\"#000017\"],[0.7777777777777778,\"#000018\"],[0.8888888888888888,\"#000019\"],[1.0,\"#000020\"]]},\"colorscale\":{\"diverging\":[[0.0,\"#000021\"],[0.1,\"#000022\"],[0.2,\"#000023\"],[0.3,\"#000024\"],[0.4,\"#000025\"],[0.5,\"#000026\"],[0.6,\"#000027\"],[0.7,\"#000028\"],[0.8,\"#000029\"],[0.9,\"#000030\"],[1.0,\"#000031\"]],\"sequential\":[[0.0,\"#000011\"],[0.1111111111111111,\"#000012\"],[0.2222222222222222,\"#000013\"],[0.3333333333333333,\"#000014\"],[0.4444444444444444,\"#000015\"],[0.5555555555555556,\"#000016\"],[0.6666666666666666,\"#000017\"],[0.7777777777777778,\"#000018\"],[0.8888888888888888,\"#000019\"],[1.0,\"#000020\"]],\"sequentialminus\":[[0.0,\"#000011\"],[0.1111111111111111,\"#000012\"],[0.2222222222222222,\"#000013\"],[0.3333333333333333,\"#000014\"],[0.4444444444444444,\"#000015\"],[0.5555555555555556,\"#000016\"],[0.6666666666666666,\"#000017\"],[0.7777777777777778,\"#000018\"],[0.8888888888888888,\"#000019\"],[1.0,\"#000020\"]]},\"colorway\":[\"#000001\",\"#000002\",\"#000003\",\"#000004\",\"#000005\",\"#000006\",\"#000007\",\"#000008\",\"#000009\",\"#000010\"]}},\"xaxis\":{\"anchor\":\"y\",\"domain\":[0.0,1.0],\"title\":{\"text\":\"month\"}},\"yaxis\":{\"anchor\":\"x\",\"domain\":[0.0,1.0],\"title\":{\"text\":\"_value\"}},\"legend\":{\"title\":{\"text\":\"variable\"},\"tracegroupgap\":0},\"margin\":{\"t\":60}},                        {\"responsive\": true}                    ).then(function(){\n",
       "                            \n",
       "var gd = document.getElementById('ff021642-c735-418c-917b-0ff2f6a34301');\n",
       "var x = new MutationObserver(function (mutations, observer) {{\n",
       "        var display = window.getComputedStyle(gd).display;\n",
       "        if (!display || display === 'none') {{\n",
       "            console.log([gd, 'removed!']);\n",
       "            Plotly.purge(gd);\n",
       "            observer.disconnect();\n",
       "        }}\n",
       "}});\n",
       "\n",
       "// Listen for the removal of the full notebook cells\n",
       "var notebookContainer = gd.closest('#notebook-container');\n",
       "if (notebookContainer) {{\n",
       "    x.observe(notebookContainer, {childList: true});\n",
       "}}\n",
       "\n",
       "// Listen for the clearing of the current output cell\n",
       "var outputEl = gd.closest('.output');\n",
       "if (outputEl) {{\n",
       "    x.observe(outputEl, {childList: true});\n",
       "}}\n",
       "\n",
       "                        })                };                });            </script>        </div>"
      ]
     },
     "metadata": {},
     "output_type": "display_data"
    }
   ],
   "source": [
    "import streamlit as st\n",
    "plt.line(sal)"
   ]
  },
  {
   "cell_type": "code",
   "execution_count": null,
   "id": "2c1d2ab7",
   "metadata": {},
   "outputs": [],
   "source": []
  },
  {
   "cell_type": "code",
   "execution_count": null,
   "id": "f6f32ce7",
   "metadata": {},
   "outputs": [],
   "source": []
  },
  {
   "cell_type": "code",
   "execution_count": null,
   "id": "e8e77b0a",
   "metadata": {},
   "outputs": [],
   "source": []
  },
  {
   "cell_type": "code",
   "execution_count": null,
   "id": "7a8d5fd9",
   "metadata": {},
   "outputs": [],
   "source": []
  },
  {
   "cell_type": "code",
   "execution_count": null,
   "id": "3350ae86",
   "metadata": {},
   "outputs": [],
   "source": []
  }
 ],
 "metadata": {
  "kernelspec": {
   "display_name": "Python 3 (ipykernel)",
   "language": "python",
   "name": "python3"
  },
  "language_info": {
   "codemirror_mode": {
    "name": "ipython",
    "version": 3
   },
   "file_extension": ".py",
   "mimetype": "text/x-python",
   "name": "python",
   "nbconvert_exporter": "python",
   "pygments_lexer": "ipython3",
   "version": "3.11.2"
  }
 },
 "nbformat": 4,
 "nbformat_minor": 5
}
